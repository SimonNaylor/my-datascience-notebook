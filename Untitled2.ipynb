{
 "cells": [
  {
   "cell_type": "code",
   "execution_count": 22,
   "id": "7100a2f3-6435-41ad-8269-6de2c0a17637",
   "metadata": {},
   "outputs": [],
   "source": [
    "import pandas as pd\n",
    "from pathlib import Path\n",
    "from sklearn.linear_model import LogisticRegression\n"
   ]
  },
  {
   "cell_type": "code",
   "execution_count": 12,
   "id": "1e1d489c-db05-4d1d-831c-fe47c4d6a90d",
   "metadata": {},
   "outputs": [],
   "source": [
    "if not Path ('./capture20110810.binetflow').is_file():\n",
    "    !wget https://storage.cloud.google.com/security-analytics-datasets-public/capture20110810.binetflow"
   ]
  },
  {
   "cell_type": "code",
   "execution_count": 7,
   "id": "3a92cfd1-593a-4087-bc72-ee515f4e38e9",
   "metadata": {},
   "outputs": [],
   "source": [
    "df =pd.read_csv('https://storage.googleapis.com/security-analytics-datasets-public/capture20110810.binetflow')"
   ]
  },
  {
   "cell_type": "code",
   "execution_count": 8,
   "id": "7d186c3d-4db1-4e0c-930b-ca3aac08f508",
   "metadata": {},
   "outputs": [
    {
     "data": {
      "text/html": [
       "<div>\n",
       "<style scoped>\n",
       "    .dataframe tbody tr th:only-of-type {\n",
       "        vertical-align: middle;\n",
       "    }\n",
       "\n",
       "    .dataframe tbody tr th {\n",
       "        vertical-align: top;\n",
       "    }\n",
       "\n",
       "    .dataframe thead th {\n",
       "        text-align: right;\n",
       "    }\n",
       "</style>\n",
       "<table border=\"1\" class=\"dataframe\">\n",
       "  <thead>\n",
       "    <tr style=\"text-align: right;\">\n",
       "      <th></th>\n",
       "      <th>StartTime</th>\n",
       "      <th>Dur</th>\n",
       "      <th>Proto</th>\n",
       "      <th>SrcAddr</th>\n",
       "      <th>Sport</th>\n",
       "      <th>Dir</th>\n",
       "      <th>DstAddr</th>\n",
       "      <th>Dport</th>\n",
       "      <th>State</th>\n",
       "      <th>sTos</th>\n",
       "      <th>dTos</th>\n",
       "      <th>TotPkts</th>\n",
       "      <th>TotBytes</th>\n",
       "      <th>SrcBytes</th>\n",
       "      <th>Label</th>\n",
       "    </tr>\n",
       "  </thead>\n",
       "  <tbody>\n",
       "    <tr>\n",
       "      <th>0</th>\n",
       "      <td>2011/08/10 09:46:53.047277</td>\n",
       "      <td>3550.182373</td>\n",
       "      <td>udp</td>\n",
       "      <td>212.50.71.179</td>\n",
       "      <td>39678</td>\n",
       "      <td>&lt;-&gt;</td>\n",
       "      <td>147.32.84.229</td>\n",
       "      <td>13363</td>\n",
       "      <td>CON</td>\n",
       "      <td>0.0</td>\n",
       "      <td>0.0</td>\n",
       "      <td>12</td>\n",
       "      <td>875</td>\n",
       "      <td>413</td>\n",
       "      <td>flow=Background-UDP-Established</td>\n",
       "    </tr>\n",
       "    <tr>\n",
       "      <th>1</th>\n",
       "      <td>2011/08/10 09:46:53.048843</td>\n",
       "      <td>0.000883</td>\n",
       "      <td>udp</td>\n",
       "      <td>84.13.246.132</td>\n",
       "      <td>28431</td>\n",
       "      <td>&lt;-&gt;</td>\n",
       "      <td>147.32.84.229</td>\n",
       "      <td>13363</td>\n",
       "      <td>CON</td>\n",
       "      <td>0.0</td>\n",
       "      <td>0.0</td>\n",
       "      <td>2</td>\n",
       "      <td>135</td>\n",
       "      <td>75</td>\n",
       "      <td>flow=Background-UDP-Established</td>\n",
       "    </tr>\n",
       "    <tr>\n",
       "      <th>2</th>\n",
       "      <td>2011/08/10 09:46:53.049895</td>\n",
       "      <td>0.000326</td>\n",
       "      <td>tcp</td>\n",
       "      <td>217.163.21.35</td>\n",
       "      <td>80</td>\n",
       "      <td>&lt;?&gt;</td>\n",
       "      <td>147.32.86.194</td>\n",
       "      <td>2063</td>\n",
       "      <td>FA_A</td>\n",
       "      <td>0.0</td>\n",
       "      <td>0.0</td>\n",
       "      <td>2</td>\n",
       "      <td>120</td>\n",
       "      <td>60</td>\n",
       "      <td>flow=Background</td>\n",
       "    </tr>\n",
       "    <tr>\n",
       "      <th>3</th>\n",
       "      <td>2011/08/10 09:46:53.053771</td>\n",
       "      <td>0.056966</td>\n",
       "      <td>tcp</td>\n",
       "      <td>83.3.77.74</td>\n",
       "      <td>32882</td>\n",
       "      <td>&lt;?&gt;</td>\n",
       "      <td>147.32.85.5</td>\n",
       "      <td>21857</td>\n",
       "      <td>FA_FA</td>\n",
       "      <td>0.0</td>\n",
       "      <td>0.0</td>\n",
       "      <td>3</td>\n",
       "      <td>180</td>\n",
       "      <td>120</td>\n",
       "      <td>flow=Background</td>\n",
       "    </tr>\n",
       "    <tr>\n",
       "      <th>4</th>\n",
       "      <td>2011/08/10 09:46:53.053937</td>\n",
       "      <td>3427.768066</td>\n",
       "      <td>udp</td>\n",
       "      <td>74.89.223.204</td>\n",
       "      <td>21278</td>\n",
       "      <td>&lt;-&gt;</td>\n",
       "      <td>147.32.84.229</td>\n",
       "      <td>13363</td>\n",
       "      <td>CON</td>\n",
       "      <td>0.0</td>\n",
       "      <td>0.0</td>\n",
       "      <td>42</td>\n",
       "      <td>2856</td>\n",
       "      <td>1596</td>\n",
       "      <td>flow=Background-UDP-Established</td>\n",
       "    </tr>\n",
       "  </tbody>\n",
       "</table>\n",
       "</div>"
      ],
      "text/plain": [
       "                    StartTime          Dur Proto        SrcAddr  Sport    Dir  \\\n",
       "0  2011/08/10 09:46:53.047277  3550.182373   udp  212.50.71.179  39678    <->   \n",
       "1  2011/08/10 09:46:53.048843     0.000883   udp  84.13.246.132  28431    <->   \n",
       "2  2011/08/10 09:46:53.049895     0.000326   tcp  217.163.21.35     80    <?>   \n",
       "3  2011/08/10 09:46:53.053771     0.056966   tcp     83.3.77.74  32882    <?>   \n",
       "4  2011/08/10 09:46:53.053937  3427.768066   udp  74.89.223.204  21278    <->   \n",
       "\n",
       "         DstAddr  Dport  State  sTos  dTos  TotPkts  TotBytes  SrcBytes  \\\n",
       "0  147.32.84.229  13363    CON   0.0   0.0       12       875       413   \n",
       "1  147.32.84.229  13363    CON   0.0   0.0        2       135        75   \n",
       "2  147.32.86.194   2063   FA_A   0.0   0.0        2       120        60   \n",
       "3    147.32.85.5  21857  FA_FA   0.0   0.0        3       180       120   \n",
       "4  147.32.84.229  13363    CON   0.0   0.0       42      2856      1596   \n",
       "\n",
       "                             Label  \n",
       "0  flow=Background-UDP-Established  \n",
       "1  flow=Background-UDP-Established  \n",
       "2                  flow=Background  \n",
       "3                  flow=Background  \n",
       "4  flow=Background-UDP-Established  "
      ]
     },
     "execution_count": 8,
     "metadata": {},
     "output_type": "execute_result"
    }
   ],
   "source": [
    "df.head()"
   ]
  },
  {
   "cell_type": "code",
   "execution_count": 14,
   "id": "3f4000c7-114d-4b59-b962-eb9084da77ec",
   "metadata": {},
   "outputs": [
    {
     "data": {
      "text/plain": [
       "(2824636, 15)"
      ]
     },
     "execution_count": 14,
     "metadata": {},
     "output_type": "execute_result"
    }
   ],
   "source": [
    "df.shape"
   ]
  },
  {
   "cell_type": "code",
   "execution_count": 15,
   "id": "f9536160-e4e7-43ec-bcd3-162f9b69c596",
   "metadata": {},
   "outputs": [
    {
     "name": "stdout",
     "output_type": "stream",
     "text": [
      "<class 'pandas.core.frame.DataFrame'>\n",
      "RangeIndex: 2824636 entries, 0 to 2824635\n",
      "Data columns (total 15 columns):\n",
      " #   Column     Dtype  \n",
      "---  ------     -----  \n",
      " 0   StartTime  object \n",
      " 1   Dur        float64\n",
      " 2   Proto      object \n",
      " 3   SrcAddr    object \n",
      " 4   Sport      object \n",
      " 5   Dir        object \n",
      " 6   DstAddr    object \n",
      " 7   Dport      object \n",
      " 8   State      object \n",
      " 9   sTos       float64\n",
      " 10  dTos       float64\n",
      " 11  TotPkts    int64  \n",
      " 12  TotBytes   int64  \n",
      " 13  SrcBytes   int64  \n",
      " 14  Label      object \n",
      "dtypes: float64(3), int64(3), object(9)\n",
      "memory usage: 323.3+ MB\n"
     ]
    }
   ],
   "source": [
    "df.info()"
   ]
  },
  {
   "cell_type": "code",
   "execution_count": 18,
   "id": "88232138-3491-423a-b5c0-37d8c21a9db4",
   "metadata": {},
   "outputs": [
    {
     "data": {
      "text/plain": [
       "flow=Background-UDP-Established                                            1169677\n",
       "flow=To-Background-UDP-CVUT-DNS-Server                                      941706\n",
       "flow=Background-TCP-Established                                             223543\n",
       "flow=Background-Established-cmpgw-CVUT                                      137257\n",
       "flow=Background-TCP-Attempt                                                 105438\n",
       "                                                                            ...   \n",
       "flow=From-Botnet-V42-TCP-Established-HTTP-Ad-60                                  1\n",
       "flow=From-Botnet-V42-TCP-Established-HTTP-Adobe-4                                1\n",
       "flow=From-Botnet-V42-TCP-HTTP-Not-Encrypted-Down-2                               1\n",
       "flow=From-Botnet-V42-TCP-Established-HTTP-Binary-Download-Custom-Port-5          1\n",
       "flow=From-Botnet-V42-TCP-Established-HTTP-Ad-49                                  1\n",
       "Name: Label, Length: 113, dtype: int64"
      ]
     },
     "execution_count": 18,
     "metadata": {},
     "output_type": "execute_result"
    }
   ],
   "source": [
    "df.Label.value_counts()"
   ]
  },
  {
   "cell_type": "code",
   "execution_count": 25,
   "id": "9ff4d4ef-2043-47fe-8490-6a08416c42e4",
   "metadata": {},
   "outputs": [],
   "source": [
    "# 1 if botnet 0 if not\n",
    "is_botnet=df.Label.apply(lambda x: 'Yeet' if 'Botnet' in x else 'Zoot')"
   ]
  },
  {
   "cell_type": "code",
   "execution_count": 26,
   "id": "1a1d69b8-85f7-4d90-a5bc-042daa28cbae",
   "metadata": {},
   "outputs": [],
   "source": [
    "clf = LogisticRegression(random_state=0).fit(df[['TotBytes']],is_botnet)"
   ]
  },
  {
   "cell_type": "code",
   "execution_count": 24,
   "id": "9c54f778-ea65-4a20-b176-6f6ac66408e0",
   "metadata": {},
   "outputs": [
    {
     "ename": "ModuleNotFoundError",
     "evalue": "No module named 'eli5'",
     "output_type": "error",
     "traceback": [
      "\u001b[0;31m---------------------------------------------------------------------------\u001b[0m",
      "\u001b[0;31mModuleNotFoundError\u001b[0m                       Traceback (most recent call last)",
      "Input \u001b[0;32mIn [24]\u001b[0m, in \u001b[0;36m<module>\u001b[0;34m\u001b[0m\n\u001b[0;32m----> 1\u001b[0m \u001b[38;5;28;01mimport\u001b[39;00m \u001b[38;5;21;01meli5\u001b[39;00m\n",
      "\u001b[0;31mModuleNotFoundError\u001b[0m: No module named 'eli5'"
     ]
    }
   ],
   "source": [
    "import eli5"
   ]
  },
  {
   "cell_type": "code",
   "execution_count": null,
   "id": "3f814c85-2213-4eaf-91b6-3142fc8df8be",
   "metadata": {},
   "outputs": [],
   "source": []
  }
 ],
 "metadata": {
  "kernelspec": {
   "display_name": "Python 3 (ipykernel)",
   "language": "python",
   "name": "python3"
  },
  "language_info": {
   "codemirror_mode": {
    "name": "ipython",
    "version": 3
   },
   "file_extension": ".py",
   "mimetype": "text/x-python",
   "name": "python",
   "nbconvert_exporter": "python",
   "pygments_lexer": "ipython3",
   "version": "3.9.7"
  }
 },
 "nbformat": 4,
 "nbformat_minor": 5
}
